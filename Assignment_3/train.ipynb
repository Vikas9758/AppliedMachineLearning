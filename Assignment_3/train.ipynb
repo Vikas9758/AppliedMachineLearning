{
 "cells": [
  {
   "cell_type": "markdown",
   "metadata": {},
   "source": [
    "### Imports"
   ]
  },
  {
   "cell_type": "code",
   "execution_count": 18,
   "metadata": {
    "id": "PVwh1N_OTCv8"
   },
   "outputs": [],
   "source": [
    "import pandas as pd, warnings, numpy as np, joblib\n",
    "from typing import Tuple\n",
    "from sklearn.feature_extraction.text import TfidfVectorizer\n",
    "from sklearn.metrics import accuracy_score, classification_report, confusion_matrix\n",
    "from sklearn.ensemble import RandomForestClassifier\n",
    "from sklearn.naive_bayes import MultinomialNB\n",
    "from sklearn.svm import SVC"
   ]
  },
  {
   "cell_type": "markdown",
   "metadata": {},
   "source": [
    "### Model Selection\n",
    "\n",
    "- Uses **TF-IDF vectorization** for text feature extraction.  \n",
    "- Implements multiple **ML models** (Naive Bayes, SVM, Logistic Regression, Neural Network, Random Forest).  \n",
    "- Optimizes models using **GridSearchCV** for hyperparameter tuning.  \n",
    "- Evaluates models with **accuracy, confusion matrix, ROC, and Precision-Recall curves**.  \n",
    "- Checks for **overfitting/underfitting** using learning curves and score comparison.  \n",
    "- Analyzes **data drift** between training and test sets.  \n",
    "- Selects the **best model**, saves it, and ranks all models based on performance."
   ]
  },
  {
   "cell_type": "code",
   "execution_count": 23,
   "metadata": {
    "id": "MjodcueyTGVt"
   },
   "outputs": [],
   "source": [
    "SEED = 8576\n",
    "\n",
    "# Loading processed data\n",
    "TRAIN_DATA = pd.read_csv(\"train.csv\")\n",
    "VALIDATION_DATA = pd.read_csv(\"validation.csv\")\n",
    "TEST_DATA = pd.read_csv(\"test.csv\")\n",
    "N_JOBS = 1\n",
    "SKIP_FINE_TUNING = False\n",
    "\n",
    "# Benchmarking multiple models\n",
    "MODELS = {\n",
    "    \"Multinomial Naive Bayes\": MultinomialNB(),\n",
    "    \"Random Forest\": RandomForestClassifier(random_state = SEED),\n",
    "    \"Support Vector Machine\": SVC(random_state = SEED),\n",
    "}"
   ]
  },
  {
   "cell_type": "code",
   "execution_count": 24,
   "metadata": {
    "colab": {
     "base_uri": "https://localhost:8080/",
     "height": 1000
    },
    "id": "v_-LQG-hTIy0",
    "outputId": "e65e5767-d8e7-40ef-c78d-e510cefd6060"
   },
   "outputs": [],
   "source": [
    "MODEL = MultinomialNB | RandomForestClassifier | SVC\n",
    "\n",
    "# Function to fit a model on train data\n",
    "def fit_model(\n",
    "    train_data: pd.DataFrame,\n",
    "    vectorizer: TfidfVectorizer,\n",
    "    model: MODEL,\n",
    ") -> Tuple[MODEL, TfidfVectorizer]:\n",
    "    X_train = vectorizer.fit_transform(train_data[\"text\"])\n",
    "    y_train = train_data[\"category\"]\n",
    "\n",
    "    model.fit(X_train, y_train)\n",
    "\n",
    "    return model, vectorizer\n",
    "\n",
    "# Function to score a model on given data\n",
    "def score_model(\n",
    "    model: MODEL,\n",
    "    vectorizer: TfidfVectorizer,\n",
    "    data: pd.DataFrame,\n",
    ") -> Tuple[float, str | dict, np.ndarray]:\n",
    "    X = vectorizer.transform(data[\"text\"])\n",
    "    y_true = data[\"category\"]\n",
    "\n",
    "    y_pred = model.predict(X)\n",
    "\n",
    "    accuracy = accuracy_score(y_true, y_pred)\n",
    "    report = classification_report(y_true, y_pred, target_names = [\"Ham\", \"Spam\"])\n",
    "    confusion_mat = confusion_matrix(y_true, y_pred)\n",
    "\n",
    "    return accuracy, report, confusion_mat\n",
    "\n",
    "# Function to validate the model using cross-validation\n",
    "def cross_validate_model(\n",
    "    model: MODEL,\n",
    "    vectorizer: TfidfVectorizer,\n",
    "    data: pd.DataFrame,\n",
    ") -> float:\n",
    "    X = vectorizer.transform(data[\"text\"])\n",
    "    y = data[\"category\"]\n",
    "\n",
    "    scores = cross_val_score(model, X, y, cv = 5, scoring = \"accuracy\")\n",
    "\n",
    "    return scores.mean()\n",
    "\n",
    "# Function to score and evaluate model\n",
    "def score_and_evaluate_model_and_get_accuracy(\n",
    "    model: MODEL,\n",
    "    vectorizer: TfidfVectorizer,\n",
    "    check_data: pd.DataFrame,\n",
    "    check_data_type: str,\n",
    ") -> float:\n",
    "    check_accuracy, check_classification_report, check_confusion_mat = score_model(model, vectorizer, check_data)\n",
    "    print(f\"{check_data_type} Accuracy: {round(100 * check_accuracy, 2)} %\")\n",
    "    print(f\"{check_data_type} Classification Report:\\n{check_classification_report}\")\n",
    "    print(f\"{check_data_type} Confusion Matrix:\")\n",
    "    return check_accuracy"
   ]
  },
  {
   "cell_type": "code",
   "execution_count": 25,
   "metadata": {},
   "outputs": [],
   "source": [
    "best_model = None\n",
    "best_model_vectorizer = None\n",
    "best_accuracy = 0"
   ]
  },
  {
   "cell_type": "code",
   "execution_count": 26,
   "metadata": {},
   "outputs": [],
   "source": [
    "model, vectorizer = fit_model(TRAIN_DATA, TfidfVectorizer(), MODELS[\"Multinomial Naive Bayes\"])"
   ]
  },
  {
   "cell_type": "code",
   "execution_count": 27,
   "metadata": {},
   "outputs": [
    {
     "name": "stdout",
     "output_type": "stream",
     "text": [
      "Train Data Accuracy: 97.08 %\n",
      "Train Data Classification Report:\n",
      "              precision    recall  f1-score   support\n",
      "\n",
      "         Ham       0.97      1.00      0.98      3388\n",
      "        Spam       1.00      0.78      0.87       512\n",
      "\n",
      "    accuracy                           0.97      3900\n",
      "   macro avg       0.98      0.89      0.93      3900\n",
      "weighted avg       0.97      0.97      0.97      3900\n",
      "\n",
      "Train Data Confusion Matrix:\n"
     ]
    }
   ],
   "source": [
    "_ = score_and_evaluate_model_and_get_accuracy(model, vectorizer, TRAIN_DATA, \"Train Data\")"
   ]
  },
  {
   "cell_type": "code",
   "execution_count": 28,
   "metadata": {},
   "outputs": [
    {
     "name": "stdout",
     "output_type": "stream",
     "text": [
      "Validation Data Accuracy: 94.98 %\n",
      "Validation Data Classification Report:\n",
      "              precision    recall  f1-score   support\n",
      "\n",
      "         Ham       0.94      1.00      0.97       712\n",
      "        Spam       1.00      0.66      0.80       124\n",
      "\n",
      "    accuracy                           0.95       836\n",
      "   macro avg       0.97      0.83      0.88       836\n",
      "weighted avg       0.95      0.95      0.95       836\n",
      "\n",
      "Validation Data Confusion Matrix:\n"
     ]
    }
   ],
   "source": [
    "_ = score_and_evaluate_model_and_get_accuracy(model, vectorizer, VALIDATION_DATA, \"Validation Data\")"
   ]
  },
  {
   "cell_type": "code",
   "execution_count": 29,
   "metadata": {},
   "outputs": [
    {
     "name": "stdout",
     "output_type": "stream",
     "text": [
      "Test Data Accuracy: 95.33 %\n",
      "Test Data Classification Report:\n",
      "              precision    recall  f1-score   support\n",
      "\n",
      "         Ham       0.95      1.00      0.97       725\n",
      "        Spam       1.00      0.65      0.79       111\n",
      "\n",
      "    accuracy                           0.95       836\n",
      "   macro avg       0.97      0.82      0.88       836\n",
      "weighted avg       0.96      0.95      0.95       836\n",
      "\n",
      "Test Data Confusion Matrix:\n"
     ]
    }
   ],
   "source": [
    "# Score on test\n",
    "test_accuracy = score_and_evaluate_model_and_get_accuracy(model, vectorizer, TEST_DATA, \"Test Data\")\n",
    "\n",
    "# Select the best model based on accuracy\n",
    "if test_accuracy > best_accuracy:\n",
    "    best_accuracy = test_accuracy\n",
    "    best_model = model\n",
    "    best_model_vectorizer = vectorizer"
   ]
  },
  {
   "cell_type": "code",
   "execution_count": 30,
   "metadata": {},
   "outputs": [],
   "source": [
    "model, vectorizer = fit_model(TRAIN_DATA, TfidfVectorizer(), MODELS[\"Random Forest\"])"
   ]
  },
  {
   "cell_type": "code",
   "execution_count": 31,
   "metadata": {},
   "outputs": [
    {
     "name": "stdout",
     "output_type": "stream",
     "text": [
      "Train Data Accuracy: 100.0 %\n",
      "Train Data Classification Report:\n",
      "              precision    recall  f1-score   support\n",
      "\n",
      "         Ham       1.00      1.00      1.00      3388\n",
      "        Spam       1.00      1.00      1.00       512\n",
      "\n",
      "    accuracy                           1.00      3900\n",
      "   macro avg       1.00      1.00      1.00      3900\n",
      "weighted avg       1.00      1.00      1.00      3900\n",
      "\n",
      "Train Data Confusion Matrix:\n"
     ]
    }
   ],
   "source": [
    "_ = score_and_evaluate_model_and_get_accuracy(model, vectorizer, TRAIN_DATA, \"Train Data\")"
   ]
  },
  {
   "cell_type": "code",
   "execution_count": 32,
   "metadata": {},
   "outputs": [
    {
     "name": "stdout",
     "output_type": "stream",
     "text": [
      "Validation Data Accuracy: 97.61 %\n",
      "Validation Data Classification Report:\n",
      "              precision    recall  f1-score   support\n",
      "\n",
      "         Ham       0.97      1.00      0.99       712\n",
      "        Spam       1.00      0.84      0.91       124\n",
      "\n",
      "    accuracy                           0.98       836\n",
      "   macro avg       0.99      0.92      0.95       836\n",
      "weighted avg       0.98      0.98      0.98       836\n",
      "\n",
      "Validation Data Confusion Matrix:\n"
     ]
    }
   ],
   "source": [
    "_ = score_and_evaluate_model_and_get_accuracy(model, vectorizer, VALIDATION_DATA, \"Validation Data\")"
   ]
  },
  {
   "cell_type": "code",
   "execution_count": null,
   "metadata": {},
   "outputs": [],
   "source": []
  }
 ],
 "metadata": {
  "colab": {
   "provenance": []
  },
  "kernelspec": {
   "display_name": "Python 3 (ipykernel)",
   "language": "python",
   "name": "python3"
  },
  "language_info": {
   "codemirror_mode": {
    "name": "ipython",
    "version": 3
   },
   "file_extension": ".py",
   "mimetype": "text/x-python",
   "name": "python",
   "nbconvert_exporter": "python",
   "pygments_lexer": "ipython3",
   "version": "3.11.4"
  },
  "widgets": {
   "application/vnd.jupyter.widget-state+json": {
    "state": {},
    "version_major": 2,
    "version_minor": 0
   }
  }
 },
 "nbformat": 4,
 "nbformat_minor": 4
}
