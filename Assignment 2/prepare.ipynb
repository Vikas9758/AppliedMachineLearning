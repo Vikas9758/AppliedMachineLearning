{
 "cells": [
  {
   "cell_type": "code",
   "execution_count": 14,
   "id": "3f199baa-ebd2-4817-9a7d-9218f7840c09",
   "metadata": {},
   "outputs": [],
   "source": [
    "import pandas as pd\n",
    "from sklearn.model_selection import train_test_split\n",
    "import nltk\n",
    "from nltk.corpus import stopwords\n",
    "import string"
   ]
  },
  {
   "cell_type": "code",
   "execution_count": 15,
   "id": "2daddf29-6fca-435a-a4ce-5fba98f10f63",
   "metadata": {},
   "outputs": [
    {
     "name": "stdout",
     "output_type": "stream",
     "text": [
      "\n",
      "Dataset Overview:\n",
      "  category                                               text\n",
      "0      ham  Go until jurong point, crazy.. Available only ...\n",
      "1      ham                      Ok lar... Joking wif u oni...\n",
      "2     spam  Free entry in 2 a wkly comp to win FA Cup fina...\n",
      "3      ham  U dun say so early hor... U c already then say...\n",
      "4      ham  Nah I don't think he goes to usf, he lives aro...\n",
      "\n",
      "Dataset Statistics:\n",
      "category\n",
      "0    0.865937\n",
      "1    0.134063\n",
      "Name: proportion, dtype: float64\n"
     ]
    }
   ],
   "source": [
    "data = pd.read_csv(\"SMSSpamCollection\", sep='\\t', names=['category', 'text'])\n",
    "\n",
    "print(\"\\nDataset Overview:\")\n",
    "print(data.head())\n",
    "\n",
    "# Convert labels to lowercase and validate\n",
    "data['category'] = data['category'].str.lower()\n",
    "if not set(data['category']).issubset({'ham', 'spam'}):\n",
    "    raise ValueError(\"Labels must be 'ham' or 'spam'\")\n",
    "\n",
    "# Encode labels: 'spam' -> 1, 'ham' -> 0\n",
    "data['category'] = (data['category'] == 'spam').astype(int)\n",
    "# Handle missing values\n",
    "if data.isnull().sum().any():\n",
    "    print(\"\\nMissing values detected. Replacing with empty strings.\")\n",
    "    data['text'].fillna('', inplace=True)\n",
    "\n",
    "print(\"\\nDataset Statistics:\")\n",
    "print(data['category'].value_counts(normalize=True))"
   ]
  },
  {
   "cell_type": "code",
   "execution_count": 16,
   "id": "fcb00ca4-9ca8-4e7e-a19a-9426cfc24822",
   "metadata": {},
   "outputs": [],
   "source": [
    "def preprocess_text(text):   # import raw txt data \n",
    "    text = text.lower()\n",
    "    words = nltk.word_tokenize(text)\n",
    "    meaningful_instances = []\n",
    "    \n",
    "    for i in words:\n",
    "        if i.isalnum() and i not in stopwords.words('english') and i not in string.punctuation:\n",
    "            meaningful_instances.append(i)        \n",
    "    final_text = []\n",
    "    \n",
    "    for i in meaningful_instances:\n",
    "        final_text.append(i)\n",
    "        \n",
    "    return \" \".join(final_text)\n",
    "\n",
    "data[\"transformed_text\"] = data[\"text\"].map(preprocess_text)"
   ]
  },
  {
   "cell_type": "code",
   "execution_count": 17,
   "id": "22e13042-9a2a-4073-bab8-768db36e2db8",
   "metadata": {},
   "outputs": [],
   "source": [
    "data_train, data_temp = train_test_split(data, test_size=0.3, random_state=2)\n",
    "data_val, data_test = train_test_split(data_temp, test_size=0.5, random_state=2)"
   ]
  },
  {
   "cell_type": "code",
   "execution_count": 27,
   "id": "f2b6ead7-76fb-4c27-99c3-8a52571a6cc1",
   "metadata": {},
   "outputs": [],
   "source": [
    "data.to_csv(\"raw_data.csv\", index= False)\n",
    "data_train.to_csv(\"train.csv\", index = False)\n",
    "data_test.to_csv(\"test.csv\", index = False)\n",
    "data_val.to_csv(\"validation.csv\", index = False)"
   ]
  },
  {
   "cell_type": "code",
   "execution_count": 19,
   "id": "e8892440-944f-468b-885a-5b9e1dfdce93",
   "metadata": {},
   "outputs": [
    {
     "name": "stdout",
     "output_type": "stream",
     "text": [
      "Reinitialized existing Git repository in C:/Users/chaud/OneDrive/Desktop/Applied ML/Assignment 2/.git/\n"
     ]
    }
   ],
   "source": [
    "! git init"
   ]
  },
  {
   "cell_type": "code",
   "execution_count": 20,
   "id": "88275c8b-803f-4338-b810-86b97c66b86d",
   "metadata": {},
   "outputs": [
    {
     "name": "stdout",
     "output_type": "stream",
     "text": [
      "Initialized DVC repository.\n",
      "\n",
      "You can now commit the changes to git.\n",
      "\n",
      "+---------------------------------------------------------------------+\n",
      "|                                                                     |\n",
      "|        DVC has enabled anonymous aggregate usage analytics.         |\n",
      "|     Read the analytics documentation (and how to opt-out) here:     |\n",
      "|             <https://dvc.org/doc/user-guide/analytics>              |\n",
      "|                                                                     |\n",
      "+---------------------------------------------------------------------+\n",
      "\n",
      "What's next?\n",
      "------------\n",
      "- Check out the documentation: <https://dvc.org/doc>\n",
      "- Get help and share ideas: <https://dvc.org/chat>\n",
      "- Star us on GitHub: <https://github.com/iterative/dvc>\n"
     ]
    }
   ],
   "source": [
    "! dvc init -f"
   ]
  },
  {
   "cell_type": "code",
   "execution_count": 28,
   "id": "884301a6-4615-423d-9d68-bdb0f429097d",
   "metadata": {},
   "outputs": [
    {
     "name": "stdout",
     "output_type": "stream",
     "text": [
      "\n",
      "To track the changes with git, run:\n",
      "\n",
      "\tgit add .gitignore raw_data.csv.dvc train.csv.dvc test.csv.dvc validation.csv.dvc\n",
      "\n",
      "To enable auto staging, run:\n",
      "\n",
      "\tdvc config core.autostage true\n"
     ]
    },
    {
     "name": "stderr",
     "output_type": "stream",
     "text": [
      "\\u280b Checking graph\n",
      "\n"
     ]
    },
    {
     "name": "stdout",
     "output_type": "stream",
     "text": [
      "[detached HEAD 035afee] Added raw and split datasets with seed 2\n",
      " 5 files changed, 24 insertions(+)\n",
      " create mode 100644 .gitignore\n",
      " create mode 100644 raw_data.csv.dvc\n",
      " create mode 100644 test.csv.dvc\n",
      " create mode 100644 train.csv.dvc\n",
      " create mode 100644 validation.csv.dvc\n"
     ]
    }
   ],
   "source": [
    "!dvc add raw_data.csv train.csv validation.csv test.csv\n",
    "!git add raw_data.csv.dvc train.csv.dvc validation.csv.dvc test.csv.dvc .gitignore\n",
    "!git commit -m \"Added raw and split datasets with seed 2\""
   ]
  },
  {
   "cell_type": "code",
   "execution_count": 22,
   "id": "1f451e2d-b6bd-487a-9892-4cee993ea29e",
   "metadata": {},
   "outputs": [
    {
     "name": "stdout",
     "output_type": "stream",
     "text": [
      "commit 45b8f81ad6345a4c84809b136c9eb9e71315d61b\n",
      "Author: Vikas9758 <chaudharyvikasjazz111@gmail.com>\n",
      "Date:   Tue Mar 4 23:02:45 2025 +0530\n",
      "\n",
      "    Added raw and split datasets with seed 2\n",
      "\n",
      "commit 1a8d2fc2f4f5f5396b95120f6aea6b915dd624d7\n",
      "Author: Vikas9758 <chaudharyvikasjazz111@gmail.com>\n",
      "Date:   Tue Mar 4 21:51:10 2025 +0530\n",
      "\n",
      "    initialised dvc\n"
     ]
    }
   ],
   "source": [
    "!git log"
   ]
  },
  {
   "cell_type": "code",
   "execution_count": 23,
   "id": "ece864a5-ca98-424e-a93f-98d8d78b6f3e",
   "metadata": {},
   "outputs": [],
   "source": [
    "data_train, data_temp = train_test_split(data, test_size=0.3, random_state=55)\n",
    "data_val, data_test = train_test_split(data_temp, test_size=0.5, random_state=55)\n",
    "data.to_csv(\"raw_data.csv\", index= False)\n",
    "data_train.to_csv(\"train.csv\", index = False)\n",
    "data_test.to_csv(\"test.csv\", index = False)\n",
    "data_val.to_csv(\"validation.csv\", index = False)"
   ]
  },
  {
   "cell_type": "code",
   "execution_count": 24,
   "id": "d2ed4809-5eb8-463c-9bb1-d578312d0adb",
   "metadata": {},
   "outputs": [
    {
     "name": "stdout",
     "output_type": "stream",
     "text": [
      "\n",
      "To track the changes with git, run:\n",
      "\n",
      "\tgit add validation.csv.dvc test.csv.dvc train.csv.dvc\n",
      "\n",
      "To enable auto staging, run:\n",
      "\n",
      "\tdvc config core.autostage true\n"
     ]
    },
    {
     "name": "stderr",
     "output_type": "stream",
     "text": [
      "\\u280b Checking graph\n",
      "\n"
     ]
    },
    {
     "name": "stdout",
     "output_type": "stream",
     "text": [
      "[detached HEAD 9614bd3] Updated train/validation/test split with seed 55\n",
      " 3 files changed, 6 insertions(+), 6 deletions(-)\n"
     ]
    }
   ],
   "source": [
    "!dvc add train.csv validation.csv test.csv\n",
    "!git commit -am \"Updated train/validation/test split with seed 55\""
   ]
  },
  {
   "cell_type": "code",
   "execution_count": 25,
   "id": "cd51c5be-7af1-4465-aae7-b977c6e5f3f8",
   "metadata": {},
   "outputs": [
    {
     "name": "stdout",
     "output_type": "stream",
     "text": [
      "commit 9614bd3fd628534f48217cd49b77dc5333653948\n",
      "Author: Vikas9758 <chaudharyvikasjazz111@gmail.com>\n",
      "Date:   Tue Mar 4 23:02:46 2025 +0530\n",
      "\n",
      "    Updated train/validation/test split with seed 55\n",
      "\n",
      "commit 45b8f81ad6345a4c84809b136c9eb9e71315d61b\n",
      "Author: Vikas9758 <chaudharyvikasjazz111@gmail.com>\n",
      "Date:   Tue Mar 4 23:02:45 2025 +0530\n",
      "\n",
      "    Added raw and split datasets with seed 2\n",
      "\n",
      "commit 1a8d2fc2f4f5f5396b95120f6aea6b915dd624d7\n",
      "Author: Vikas9758 <chaudharyvikasjazz111@gmail.com>\n",
      "Date:   Tue Mar 4 21:51:10 2025 +0530\n",
      "\n",
      "    initialised dvc\n"
     ]
    }
   ],
   "source": [
    "!git log"
   ]
  },
  {
   "cell_type": "code",
   "execution_count": 26,
   "id": "1f280815-6827-496d-9010-4679dbe9e67b",
   "metadata": {},
   "outputs": [
    {
     "name": "stderr",
     "output_type": "stream",
     "text": [
      "Warning: you are leaving 2 commits behind, not connected to\n",
      "any of your branches:\n",
      "\n",
      "  9614bd3 Updated train/validation/test split with seed 55\n",
      "  45b8f81 Added raw and split datasets with seed 2\n",
      "\n",
      "If you want to keep them by creating a new branch, this may be a good time\n",
      "to do so with:\n",
      "\n",
      " git branch <new-branch-name> 9614bd3\n",
      "\n",
      "HEAD is now at 1a8d2fc initialised dvc\n"
     ]
    },
    {
     "name": "stdout",
     "output_type": "stream",
     "text": [
      "D       train.csv\n",
      "D       validation.csv\n",
      "D       test.csv\n"
     ]
    }
   ],
   "source": [
    "!git checkout 1a8d2fc2f4f5f5396b95120f6aea6b915dd624d7\n",
    "!dvc checkout"
   ]
  },
  {
   "cell_type": "code",
   "execution_count": null,
   "id": "a2d4d9bc-9637-4a4e-809e-366934022d52",
   "metadata": {},
   "outputs": [],
   "source": []
  }
 ],
 "metadata": {
  "kernelspec": {
   "display_name": "Python 3 (ipykernel)",
   "language": "python",
   "name": "python3"
  },
  "language_info": {
   "codemirror_mode": {
    "name": "ipython",
    "version": 3
   },
   "file_extension": ".py",
   "mimetype": "text/x-python",
   "name": "python",
   "nbconvert_exporter": "python",
   "pygments_lexer": "ipython3",
   "version": "3.11.4"
  },
  "widgets": {
   "application/vnd.jupyter.widget-state+json": {
    "state": {},
    "version_major": 2,
    "version_minor": 0
   }
  }
 },
 "nbformat": 4,
 "nbformat_minor": 5
}
